{
  "nbformat": 4,
  "nbformat_minor": 0,
  "metadata": {
    "colab": {
      "provenance": [],
      "authorship_tag": "ABX9TyP6VeXdmLutWErXYSSYwpoS",
      "include_colab_link": true
    },
    "kernelspec": {
      "name": "python3",
      "display_name": "Python 3"
    },
    "language_info": {
      "name": "python"
    }
  },
  "cells": [
    {
      "cell_type": "markdown",
      "metadata": {
        "id": "view-in-github",
        "colab_type": "text"
      },
      "source": [
        "<a href=\"https://colab.research.google.com/github/Partha-deuri/learn_pytorch/blob/main/webScraping.ipynb\" target=\"_parent\"><img src=\"https://colab.research.google.com/assets/colab-badge.svg\" alt=\"Open In Colab\"/></a>"
      ]
    },
    {
      "cell_type": "code",
      "execution_count": 6,
      "metadata": {
        "colab": {
          "base_uri": "https://localhost:8080/"
        },
        "id": "H7azbzLnjspL",
        "outputId": "9fbc76cd-1e95-4785-b73f-e0157933a76d"
      },
      "outputs": [
        {
          "output_type": "stream",
          "name": "stdout",
          "text": [
            "\n",
            "\n",
            "\t\t***** Task Completed *****\n",
            "\n",
            "\n"
          ]
        }
      ],
      "source": [
        "import requests\n",
        "from bs4 import BeautifulSoup\n",
        "import re\n",
        "\n",
        "#initialize\n",
        "globalCorpus = []\n",
        "globalLinks = set()\n",
        "globalVisited = set()\n",
        "\n",
        "rootPageUrl = 'https://www.asomiyapratidin.in/'\n",
        "globalLinks.add(rootPageUrl)\n",
        "\n",
        "# helpers\n",
        "skipLines = [\n",
        "        '© asomiyapratidin 2024'\n",
        "    ]\n",
        "def printList(list):\n",
        "    for item in list:\n",
        "        print(item)\n",
        "def deEmojify(text):\n",
        "    regrex_pattern = re.compile(pattern = \"[\"\n",
        "        u\"\\U0001F600-\\U0001F64F\"  # emoticons\n",
        "        u\"\\U0001F300-\\U0001F5FF\"  # symbols & pictographs\n",
        "        u\"\\U0001F680-\\U0001F6FF\"  # transport & map symbols\n",
        "        u\"\\U0001F1E0-\\U0001F1FF\"  # flags (iOS)\n",
        "                           \"]+\", flags = re.UNICODE)\n",
        "    return regrex_pattern.sub(r'',text)\n",
        "\n",
        "# get all links\n",
        "\n",
        "def fetchAllLinks (url,nested=20):\n",
        "    if nested == 0:\n",
        "        return\n",
        "    req = requests.get(url)\n",
        "    soup = BeautifulSoup(req.content, \"html.parser\")\n",
        "    res=soup.find_all('a')\n",
        "    for item in res:\n",
        "        link = item.get('href')\n",
        "        if link not in globalLinks:\n",
        "            if re.search(\"^\"+rootPageUrl+\".*\", link):\n",
        "                globalLinks.add(link)\n",
        "                fetchAllLinks(link,nested-1)\n",
        "\n",
        "fetchAllLinks(rootPageUrl)\n",
        "\n",
        "\n",
        "#get data from one page\n",
        "def fetchData(link):\n",
        "    corpus = []\n",
        "    tempReq = requests.get(link)\n",
        "    tempSoup = BeautifulSoup(tempReq.content,\"html.parser\")\n",
        "    tempRes = tempSoup.findAll('p')\n",
        "    for p in tempRes:\n",
        "        if p.text not in skipLines:\n",
        "            corpus.append(p.text)\n",
        "    return corpus\n",
        "\n",
        "\n",
        "# get data from all pages\n",
        "def  getAllData(links=[]):\n",
        "    for link in links:\n",
        "        if link not in globalVisited:\n",
        "            globalVisited.add(link)\n",
        "            data = fetchData(link)\n",
        "            if len(data) >0:\n",
        "                globalCorpus.append(data)\n",
        "\n",
        "getAllData(globalLinks)\n",
        "\n",
        "# printList(globalCorpus)\n",
        "\n",
        "# Create file\n",
        "def createFile(filename):\n",
        "    f = open(filename+\".txt\", \"w\", encoding='utf-8')\n",
        "    for doc in globalCorpus:\n",
        "        for para in doc:\n",
        "            para = para.split('।')\n",
        "            for line in para:\n",
        "                line  = re.sub(\"[a-zA-Z0-9#|/]\",'',line)\n",
        "                line = deEmojify(line)\n",
        "                f.write(line)\n",
        "                f.write(\"\\n\")\n",
        "    f.close()\n",
        "\n",
        "createFile(\"assamese_corpus\")\n",
        "\n",
        "print(\"\\n\\n\\t\\t***** Task Completed *****\\n\\n\")"
      ]
    },
    {
      "cell_type": "code",
      "source": [],
      "metadata": {
        "id": "zyvSgyV80pyV"
      },
      "execution_count": null,
      "outputs": []
    }
  ]
}