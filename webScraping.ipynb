{
  "cells": [
    {
      "cell_type": "markdown",
      "metadata": {
        "id": "view-in-github",
        "colab_type": "text"
      },
      "source": [
        "<a href=\"https://colab.research.google.com/github/Partha-deuri/learn_pytorch/blob/main/webScraping.ipynb\" target=\"_parent\"><img src=\"https://colab.research.google.com/assets/colab-badge.svg\" alt=\"Open In Colab\"/></a>"
      ]
    },
    {
      "cell_type": "code",
      "execution_count": 46,
      "metadata": {
        "id": "H2iAh4j1lEsq"
      },
      "outputs": [],
      "source": [
        "import requests\n",
        "from bs4 import BeautifulSoup\n",
        "import re"
      ]
    },
    {
      "cell_type": "code",
      "execution_count": 47,
      "metadata": {
        "id": "89W_jIm3lHdN"
      },
      "outputs": [],
      "source": [
        "#initialize\n",
        "globalCorpus = set()\n",
        "globalLinks = set()\n",
        "globalVisited = set()\n"
      ]
    },
    {
      "cell_type": "code",
      "execution_count": 48,
      "metadata": {
        "id": "1eA_97NvlJg8"
      },
      "outputs": [],
      "source": [
        "# helpers\n",
        "skipLines = [\n",
        "        '© asomiyapratidin 2024',\n",
        "        \"অসমৰ সৰ্বাধিক প্ৰচলিত দৈনিক বাতৰিকাকত। ২০১১ চনৰ ৪ মাৰ্চত বাতৰিকাকতখন প্ৰথম প্ৰকাশ পায়। কাকতখনৰ সম্পাদক নৰেশ কলিতা। বাতৰি কাকতখনৰ চাৰিটা সংস্কৰণ গুৱাহাটী, ডিব্ৰুগড়, বিশ্বনাথ চাৰিআলি আৰু গোৱালপাৰাৰ পৰা একেসময়তে প্ৰকাশ পায়।\"\n",
        "    ]\n",
        "def printList(list):\n",
        "    for item in list:\n",
        "        print(item)\n"
      ]
    },
    {
      "cell_type": "code",
      "execution_count": 49,
      "metadata": {
        "id": "6ffuG5OUlNNY"
      },
      "outputs": [],
      "source": [
        "# get all links\n",
        "\n",
        "def fetchAllLinks (url,nested=10):\n",
        "    if nested == 0:\n",
        "        return\n",
        "    req = requests.get(url)\n",
        "    soup = BeautifulSoup(req.content, \"html.parser\")\n",
        "    res=soup.find_all('a')\n",
        "    for item in res:\n",
        "        link = item.get('href')\n",
        "        if link!=None and link!='#':\n",
        "            if re.search(\"^\"+rootPageUrl+\".*\", link):\n",
        "                if re.search(\".*(login|privacy|contact|terms-conditions).*\",link):\n",
        "                    continue\n",
        "                if link not in globalLinks:\n",
        "                    globalLinks.add(link)\n",
        "                    fetchAllLinks(link,nested-1)\n"
      ]
    },
    {
      "cell_type": "code",
      "execution_count": 50,
      "metadata": {
        "id": "oJH-kj2NlQvO"
      },
      "outputs": [],
      "source": [
        "#get data from one page\n",
        "def fetchData(link):\n",
        "    corpus = []\n",
        "    tempReq = requests.get(link)\n",
        "    tempSoup = BeautifulSoup(tempReq.content,\"html.parser\")\n",
        "    tempRes = tempSoup.findAll('p')\n",
        "    for p in tempRes:\n",
        "        para = p.text\n",
        "        if para not in skipLines:\n",
        "            para = re.sub(r\"[^ঀ-ৱ]+\",' ',para)\n",
        "            if para !=' ':\n",
        "                corpus.append(para)\n",
        "    return corpus\n"
      ]
    },
    {
      "cell_type": "code",
      "execution_count": 51,
      "metadata": {
        "id": "hB9aVomhlUJm"
      },
      "outputs": [],
      "source": [
        "# get data from all pages\n",
        "def  getAllData(links=[]):\n",
        "    for link in links:\n",
        "        if link not in globalVisited:\n",
        "            globalVisited.add(link)\n",
        "            data = fetchData(link)\n",
        "            if len(data) >0:\n",
        "                for d in data:\n",
        "                    globalCorpus.add(d)"
      ]
    },
    {
      "cell_type": "code",
      "execution_count": 52,
      "metadata": {
        "id": "6jbdMStilZnY"
      },
      "outputs": [],
      "source": [
        "#fix additional '\\n'\n",
        "def fixIndent(filename):\n",
        "    f = open(filename+\".txt\",\"r\",encoding='utf-8')\n",
        "    newFile = f.readlines()\n",
        "    f.close()\n",
        "    # print(newFile)\n",
        "    f = open(filename+\".txt\",\"w\",encoding='utf-8')\n",
        "    for line in newFile:\n",
        "        if line != '\\n':\n",
        "            f.write(line)\n",
        "    f.close()\n"
      ]
    },
    {
      "cell_type": "code",
      "execution_count": 53,
      "metadata": {
        "id": "iTSs6PLqlWt_"
      },
      "outputs": [],
      "source": [
        "# Create file\n",
        "def createFile(filename):\n",
        "    f = open(filename+\".txt\", \"a\", encoding='utf-8')\n",
        "    for para in globalCorpus:\n",
        "        # for para in doc:\n",
        "        para = para.split('।')\n",
        "        for line in para:\n",
        "                # line = removeRedundent(line)\n",
        "            line = re.sub(r\"[^ঀ-ৱ]+\",' ',line)\n",
        "            line = re.sub('^ +','',line)\n",
        "            f.write(line)\n",
        "            f.write(\"\\n\")\n",
        "    f.close()\n",
        "    fixIndent(filename)\n"
      ]
    },
    {
      "cell_type": "code",
      "execution_count": null,
      "metadata": {
        "id": "H7azbzLnjspL"
      },
      "outputs": [],
      "source": [
        "\n",
        "#initialize\n",
        "globalCorpus = set()\n",
        "globalLinks = set()\n",
        "globalVisited = set()\n",
        "\n",
        "rootPageUrl = 'https://www.asomiyapratidin.in/'\n",
        "globalLinks.add(rootPageUrl)\n",
        "\n",
        "fetchAllLinks(rootPageUrl)\n",
        "\n",
        "getAllData(globalLinks)\n",
        "\n",
        "# printList(globalCorpus)\n",
        "\n",
        "createFile(\"assamese_corpus\")\n",
        "\n",
        "print(\"\\n\\n\\t\\t***** Task Completed *****\\n\\n\")"
      ]
    },
    {
      "cell_type": "code",
      "execution_count": null,
      "metadata": {
        "id": "ZivpA61M5V8H"
      },
      "outputs": [],
      "source": [
        "# f = open(\"assamese_corpus.txt\",\"r\",encoding='utf-8')\n",
        "# print(f.read())\n",
        "# f.close()"
      ]
    },
    {
      "cell_type": "code",
      "execution_count": null,
      "metadata": {
        "id": "IRvDuuTPm_uP"
      },
      "outputs": [],
      "source": [
        "globalLinks = set()\n",
        "globalVisited = set()\n",
        "globalCorpus = set()\n",
        "\n",
        "rootPageUrl = 'https://ganaadhikar.com/'\n",
        "startPageUrl = 'https://www.ganaadhikar.com/'\n",
        "globalLinks.add(rootPageUrl)\n",
        "\n",
        "# printList(globalLinks)\n",
        "\n",
        "fetchAllLinks(startPageUrl,nested=7)\n",
        "# printList(globalLinks)\n",
        "getAllData(globalLinks)\n",
        "# printList(globalCorpus)\n",
        "createFile(\"assamese_corpus\")\n",
        "\n",
        "print(\"\\n\\n\\t\\t***** Task Completed *****\\n\\n\")"
      ]
    },
    {
      "cell_type": "code",
      "execution_count": null,
      "metadata": {
        "id": "fLpbkeizrdDO"
      },
      "outputs": [],
      "source": [
        "# fetchData('https://assam.nenow.in/three-day-rangali-successfully-conclude/')"
      ]
    },
    {
      "cell_type": "code",
      "execution_count": null,
      "metadata": {
        "id": "ug-hZptnzBoq"
      },
      "outputs": [],
      "source": [
        "# https://assam.news18.com/"
      ]
    },
    {
      "cell_type": "code",
      "execution_count": null,
      "metadata": {
        "id": "cx1LSOuk2fxG"
      },
      "outputs": [],
      "source": [
        "globalCorpus = set()\n",
        "globalLinks = set()\n",
        "globalVisited = set()\n",
        "\n",
        "rootPageUrl = 'https://assam.news18.com/'\n",
        "startPageUrl = 'https://assam.news18.com/'\n",
        "globalLinks.add(startPageUrl)\n",
        "\n",
        "fetchAllLinks(startPageUrl)\n",
        "# printList(globalLinks)\n",
        "getAllData(globalLinks)\n",
        "# printList(globalCorpus)\n",
        "\n",
        "createFile(\"assamese_corpus\")\n",
        "\n",
        "print(\"\\n\\n\\t\\t***** Task Completed *****\\n\\n\")"
      ]
    },
    {
      "cell_type": "code",
      "execution_count": null,
      "metadata": {
        "id": "oWJEL2L6cdg8"
      },
      "outputs": [],
      "source": [
        "globalCorpus = set()\n",
        "globalLinks = set()\n",
        "globalVisited = set()\n",
        "\n",
        "rootPageUrl = 'https://niyomiyabarta.com/'\n",
        "startPageUrl = 'https://www.niyomiyabarta.com/home/'\n",
        "globalLinks.add(startPageUrl)\n",
        "\n",
        "fetchAllLinks(startPageUrl,nested=4)\n",
        "# printList(globalLinks)\n",
        "getAllData(globalLinks)\n",
        "# printList(globalCorpus)\n",
        "\n",
        "createFile(\"assamese_corpus\")\n",
        "\n",
        "print(\"\\n\\n\\t\\t***** Task Completed *****\\n\\n\")"
      ]
    },
    {
      "cell_type": "code",
      "execution_count": null,
      "metadata": {
        "id": "SahmWcO18OjX"
      },
      "outputs": [],
      "source": [
        "#https://assam.nenow.in/"
      ]
    },
    {
      "cell_type": "code",
      "execution_count": null,
      "metadata": {
        "id": "_7WIv2WH8RYJ"
      },
      "outputs": [],
      "source": [
        "globalCorpus = set()\n",
        "globalLinks = set()\n",
        "globalVisited = set()\n",
        "\n",
        "rootPageUrl = 'https://assam.nenow.in/'\n",
        "startPageUrl = 'https://assam.nenow.in/'\n",
        "globalLinks.add(startPageUrl)\n",
        "\n",
        "fetchAllLinks(startPageUrl,nested=3)\n",
        "# printList(globalLinks)\n",
        "getAllData(globalLinks)\n",
        "# printList(globalCorpus)\n",
        "\n",
        "createFile(\"assamese_corpus\")\n",
        "\n",
        "print(\"\\n\\n\\t\\t***** Task Completed *****\\n\\n\")"
      ]
    },
    {
      "cell_type": "code",
      "source": [],
      "metadata": {
        "id": "yY3D-LLYfMTw"
      },
      "execution_count": null,
      "outputs": []
    }
  ],
  "metadata": {
    "colab": {
      "provenance": [],
      "authorship_tag": "ABX9TyNr2GAY7yXVe6HJkLSE/njO",
      "include_colab_link": true
    },
    "kernelspec": {
      "display_name": "Python 3",
      "name": "python3"
    },
    "language_info": {
      "name": "python"
    }
  },
  "nbformat": 4,
  "nbformat_minor": 0
}