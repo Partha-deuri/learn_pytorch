{
  "cells": [
    {
      "cell_type": "markdown",
      "metadata": {
        "id": "view-in-github",
        "colab_type": "text"
      },
      "source": [
        "<a href=\"https://colab.research.google.com/github/Partha-deuri/learn_pytorch/blob/main/webScraping.ipynb\" target=\"_parent\"><img src=\"https://colab.research.google.com/assets/colab-badge.svg\" alt=\"Open In Colab\"/></a>"
      ]
    },
    {
      "cell_type": "code",
      "source": [
        "import requests\n",
        "from bs4 import BeautifulSoup\n",
        "import re"
      ],
      "metadata": {
        "id": "H2iAh4j1lEsq"
      },
      "execution_count": 209,
      "outputs": []
    },
    {
      "cell_type": "code",
      "source": [
        "#initialize\n",
        "globalCorpus = set()\n",
        "globalLinks = set()\n",
        "globalVisited = set()\n"
      ],
      "metadata": {
        "id": "89W_jIm3lHdN"
      },
      "execution_count": 210,
      "outputs": []
    },
    {
      "cell_type": "code",
      "source": [
        "# helpers\n",
        "skipLines = [\n",
        "        '© asomiyapratidin 2024',\n",
        "        \"অসমৰ সৰ্বাধিক প্ৰচলিত দৈনিক বাতৰিকাকত। ২০১১ চনৰ ৪ মাৰ্চত বাতৰিকাকতখন প্ৰথম প্ৰকাশ পায়। কাকতখনৰ সম্পাদক নৰেশ কলিতা। বাতৰি কাকতখনৰ চাৰিটা সংস্কৰণ গুৱাহাটী, ডিব্ৰুগড়, বিশ্বনাথ চাৰিআলি আৰু গোৱালপাৰাৰ পৰা একেসময়তে প্ৰকাশ পায়।\"\n",
        "    ]\n",
        "def printList(list):\n",
        "    for item in list:\n",
        "        print(item)\n"
      ],
      "metadata": {
        "id": "1eA_97NvlJg8"
      },
      "execution_count": 211,
      "outputs": []
    },
    {
      "cell_type": "code",
      "source": [
        "# get all links\n",
        "\n",
        "def fetchAllLinks (url,nested=10):\n",
        "    if nested == 0:\n",
        "        return\n",
        "    req = requests.get(url)\n",
        "    soup = BeautifulSoup(req.content, \"html.parser\")\n",
        "    res=soup.find_all('a')\n",
        "    for item in res:\n",
        "        link = item.get('href')\n",
        "        if link!=None and link!='#':\n",
        "            if re.search(\"^\"+rootPageUrl+\".*\", link):\n",
        "                if re.search(\".*(login|privacy|contact|terms-conditions).*\",link):\n",
        "                    continue\n",
        "                if link not in globalLinks:\n",
        "                    globalLinks.add(link)\n",
        "                    fetchAllLinks(link,nested-1)\n"
      ],
      "metadata": {
        "id": "6ffuG5OUlNNY"
      },
      "execution_count": 212,
      "outputs": []
    },
    {
      "cell_type": "code",
      "source": [
        "#get data from one page\n",
        "def fetchData(link):\n",
        "    corpus = []\n",
        "    tempReq = requests.get(link)\n",
        "    tempSoup = BeautifulSoup(tempReq.content,\"html.parser\")\n",
        "    tempRes = tempSoup.findAll('p')\n",
        "    for p in tempRes:\n",
        "        para = p.text\n",
        "        if para not in skipLines:\n",
        "            para = re.sub(r\"[^ঀ-ৱ]+\",' ',para)\n",
        "            if para !=' ':\n",
        "                corpus.append(para)\n",
        "    return corpus\n"
      ],
      "metadata": {
        "id": "oJH-kj2NlQvO"
      },
      "execution_count": 213,
      "outputs": []
    },
    {
      "cell_type": "code",
      "source": [
        "# get data from all pages\n",
        "def  getAllData(links=[]):\n",
        "    for link in links:\n",
        "        if link not in globalVisited:\n",
        "            globalVisited.add(link)\n",
        "            data = fetchData(link)\n",
        "            if len(data) >0:\n",
        "                for d in data:\n",
        "                    globalCorpus.add(d)"
      ],
      "metadata": {
        "id": "hB9aVomhlUJm"
      },
      "execution_count": 214,
      "outputs": []
    },
    {
      "cell_type": "code",
      "source": [
        "#fix additional '\\n'\n",
        "def fixIndent(filename):\n",
        "    f = open(filename+\".txt\",\"r\",encoding='utf-8')\n",
        "    newFile = f.readlines()\n",
        "    f.close()\n",
        "    # print(newFile)\n",
        "    f = open(filename+\".txt\",\"w\",encoding='utf-8')\n",
        "    for line in newFile:\n",
        "        if line != '\\n':\n",
        "            f.write(line)\n",
        "    f.close()\n"
      ],
      "metadata": {
        "id": "6jbdMStilZnY"
      },
      "execution_count": 215,
      "outputs": []
    },
    {
      "cell_type": "code",
      "source": [
        "# Create file\n",
        "def createFile(filename):\n",
        "    f = open(filename+\".txt\", \"a\", encoding='utf-8')\n",
        "    for para in globalCorpus:\n",
        "        # for para in doc:\n",
        "        para = para.split('।')\n",
        "        for line in para:\n",
        "                # line = removeRedundent(line)\n",
        "            line = re.sub(r\"[^ঀ-ৱ]+\",' ',line)\n",
        "            line = re.sub('^ +','',line)\n",
        "            f.write(line)\n",
        "            f.write(\"\\n\")\n",
        "    f.close()\n",
        "    fixIndent(filename)\n"
      ],
      "metadata": {
        "id": "iTSs6PLqlWt_"
      },
      "execution_count": 216,
      "outputs": []
    },
    {
      "cell_type": "code",
      "execution_count": 217,
      "metadata": {
        "colab": {
          "base_uri": "https://localhost:8080/"
        },
        "id": "H7azbzLnjspL",
        "outputId": "d674eaef-f920-4d4a-d528-8bca5eae1a49"
      },
      "outputs": [
        {
          "output_type": "stream",
          "name": "stdout",
          "text": [
            "\n",
            "\n",
            "\t\t***** Task Completed *****\n",
            "\n",
            "\n"
          ]
        }
      ],
      "source": [
        "\n",
        "#initialize\n",
        "globalCorpus = set()\n",
        "globalLinks = set()\n",
        "globalVisited = set()\n",
        "\n",
        "rootPageUrl = 'https://www.asomiyapratidin.in/'\n",
        "globalLinks.add(rootPageUrl)\n",
        "\n",
        "fetchAllLinks(rootPageUrl)\n",
        "\n",
        "getAllData(globalLinks)\n",
        "\n",
        "# printList(globalCorpus)\n",
        "\n",
        "createFile(\"assamese_corpus\")\n",
        "\n",
        "print(\"\\n\\n\\t\\t***** Task Completed *****\\n\\n\")"
      ]
    },
    {
      "cell_type": "code",
      "execution_count": 218,
      "metadata": {
        "id": "ZivpA61M5V8H"
      },
      "outputs": [],
      "source": [
        "# f = open(\"assamese_corpus.txt\",\"r\",encoding='utf-8')\n",
        "# print(f.read())\n",
        "# f.close()"
      ]
    },
    {
      "cell_type": "code",
      "source": [
        "globalLinks = set()\n",
        "globalVisited = set()\n",
        "globalCorpus = set()\n",
        "\n",
        "rootPageUrl = 'https://ganaadhikar.com/'\n",
        "startPageUrl = 'https://www.ganaadhikar.com/'\n",
        "globalLinks.add(rootPageUrl)\n",
        "\n",
        "# printList(globalLinks)\n",
        "\n",
        "fetchAllLinks(startPageUrl)\n",
        "# printList(globalLinks)\n",
        "getAllData(globalLinks)\n",
        "# printList(globalCorpus)\n",
        "createFile(\"assamese_corpus\")\n",
        "\n",
        "print(\"\\n\\n\\t\\t***** Task Completed *****\\n\\n\")"
      ],
      "metadata": {
        "colab": {
          "base_uri": "https://localhost:8080/"
        },
        "id": "IRvDuuTPm_uP",
        "outputId": "313deae5-5a26-45e6-f08a-3e2cfffdbee2"
      },
      "execution_count": 219,
      "outputs": [
        {
          "output_type": "stream",
          "name": "stderr",
          "text": [
            "/usr/lib/python3.10/html/parser.py:170: XMLParsedAsHTMLWarning: It looks like you're parsing an XML document using an HTML parser. If this really is an HTML document (maybe it's XHTML?), you can ignore or filter this warning. If it's XML, you should know that using an XML parser will be more reliable. To parse this document as XML, make sure you have the lxml package installed, and pass the keyword argument `features=\"xml\"` into the BeautifulSoup constructor.\n",
            "  k = self.parse_starttag(i)\n",
            "WARNING:bs4.dammit:Some characters could not be decoded, and were replaced with REPLACEMENT CHARACTER.\n",
            "WARNING:bs4.dammit:Some characters could not be decoded, and were replaced with REPLACEMENT CHARACTER.\n"
          ]
        },
        {
          "output_type": "stream",
          "name": "stdout",
          "text": [
            "\n",
            "\n",
            "\t\t***** Task Completed *****\n",
            "\n",
            "\n"
          ]
        }
      ]
    },
    {
      "cell_type": "code",
      "execution_count": 220,
      "metadata": {
        "id": "oWJEL2L6cdg8",
        "colab": {
          "base_uri": "https://localhost:8080/"
        },
        "outputId": "355435a6-ace6-4767-c07e-3146c9c8ed21"
      },
      "outputs": [
        {
          "output_type": "stream",
          "name": "stdout",
          "text": [
            "\n",
            "\n",
            "\t\t***** Task Completed *****\n",
            "\n",
            "\n"
          ]
        }
      ],
      "source": [
        "globalCorpus = set()\n",
        "globalLinks = set()\n",
        "globalVisited = set()\n",
        "\n",
        "rootPageUrl = 'https://niyomiyabarta.com/'\n",
        "startPageUrl = 'https://www.niyomiyabarta.com/home/'\n",
        "globalLinks.add(startPageUrl)\n",
        "\n",
        "fetchAllLinks(startPageUrl)\n",
        "# printList(globalLinks)\n",
        "getAllData(globalLinks)\n",
        "# printList(globalCorpus)\n",
        "\n",
        "createFile(\"assamese_corpus\")\n",
        "\n",
        "print(\"\\n\\n\\t\\t***** Task Completed *****\\n\\n\")"
      ]
    },
    {
      "cell_type": "code",
      "source": [
        "# fetchData('https://ganaadhikar.com/%e0%a6%9c%e0%a7%8b-%e0%a6%ac%e0%a6%be%e0%a6%87%e0%a6%a1%e0%a7%87%e0%a6%a8-%e0%a6%ad%e0%a7%b1%e0%a6%bf%e0%a6%b7%e0%a7%8d%e0%a6%af%e0%a6%a6%e0%a7%8d%e0%a6%ac%e0%a6%be%e0%a6%a3%e0%a7%80/')"
      ],
      "metadata": {
        "id": "fLpbkeizrdDO"
      },
      "execution_count": 221,
      "outputs": []
    },
    {
      "cell_type": "code",
      "source": [
        "line = \"dfbsjdhfbj ক্ষতিগ্ৰস্তৰ আশ্ৰয় শিবিৰত  dbfsdbমন্ত্ৰী পীয়ূষ হাজৰিকা dhfjh\"\n",
        "line = re.sub(r\"[^ঀ-ৱ]+\",' ',line)\n",
        "print(line)"
      ],
      "metadata": {
        "colab": {
          "base_uri": "https://localhost:8080/"
        },
        "id": "ug-hZptnzBoq",
        "outputId": "5ab0c93f-cf04-4623-e8fd-a40c543325b9"
      },
      "execution_count": 222,
      "outputs": [
        {
          "output_type": "stream",
          "name": "stdout",
          "text": [
            " ক্ষতিগ্ৰস্তৰ আশ্ৰয় শিবিৰত মন্ত্ৰী পীয়ূষ হাজৰিকা \n"
          ]
        }
      ]
    },
    {
      "cell_type": "code",
      "source": [],
      "metadata": {
        "id": "cx1LSOuk2fxG"
      },
      "execution_count": 222,
      "outputs": []
    }
  ],
  "metadata": {
    "colab": {
      "provenance": [],
      "authorship_tag": "ABX9TyNdoY2VKNUk/x/YOEAebvMy",
      "include_colab_link": true
    },
    "kernelspec": {
      "display_name": "Python 3",
      "name": "python3"
    },
    "language_info": {
      "name": "python"
    }
  },
  "nbformat": 4,
  "nbformat_minor": 0
}